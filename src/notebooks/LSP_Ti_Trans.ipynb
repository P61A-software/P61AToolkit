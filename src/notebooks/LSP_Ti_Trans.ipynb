{
 "cells": [
  {
   "cell_type": "markdown",
   "metadata": {
    "collapsed": true,
    "pycharm": {
     "name": "#%% md\n"
    }
   },
   "source": [
    "# LSP Ti-6Al-4V Depth Stress Scan\n",
    "\n",
    "This notebook presents an example analysis of residual stresses at P61A.\n",
    "\n",
    "###### Sample:\n",
    "100 × 20 × 1 mm thick Ti-6Al-4V sheet with Laser Shock Peening treated surface.\n",
    "\n",
    "###### Experiment parameters:\n",
    "Measurements in transmission.\n",
    "Incident beam 50 × 50 μm, detector 2Θ = 5.274° calibrated using NIST 640f Si powder.\n",
    "\n",
    "###### Experimental procedure:\n",
    "1. Orient the sample with surface parallel to the beam at half of the beam height.\n",
    "2. Rotate the sample by Θ, so that the incident and diffracted beam fall at the same angle.\n",
    "3. Perform *eu.chi* scan for every *eu.z* position for two *eu.phi* orientations 0° and 90°.\n",
    "*eu.z* puts the gauge volume at a certain depth in the sample, and for each depth a $sin^2(\\psi)$ scan\n",
    "is performed for $\\varphi \\in \\{0^{\\circ}, 90^{\\circ}\\}$.\n",
    "For the purposes of $sin^2(\\psi)$ method, *eu.phi* is $\\varphi$ and *eu.chi* is $\\psi$.\n",
    "4. Diffraction patterns were analysed using P61A::Viewer.\n",
    "Peaks exported from the Viewer are the starting point of this analysis."
   ]
  },
  {
   "cell_type": "markdown",
   "metadata": {},
   "source": [
    "## Imports"
   ]
  },
  {
   "cell_type": "code",
   "execution_count": 11,
   "metadata": {
    "pycharm": {
     "name": "#%%\n"
    }
   },
   "outputs": [],
   "source": [
    "import sys\n",
    "import pandas as pd\n",
    "import numpy as np\n",
    "from matplotlib import pyplot as plt\n",
    "from uncertainties import unumpy, ufloat\n",
    "\n",
    "# This has to be the path to P61AToolkit/src/py61a.\n",
    "# If you are launching the notebook from P61AToolkit/src/notebooks it is correct,\n",
    "# otherwise change it accordingly.\n",
    "sys.path.append('../py61a')\n",
    "from py61a.viewer_utils import read_peaks, valid_peaks, peak_id_str, group_by_motors\n",
    "from py61a.cryst_utils import bragg, tau, mu\n",
    "from py61a.stress import Sin2Psi, DeviatoricStresses, MultiWaveLength\n",
    "\n",
    "%matplotlib inline"
   ]
  },
  {
   "cell_type": "markdown",
   "metadata": {
    "pycharm": {
     "name": "#%% md\n"
    }
   },
   "source": [
    "## Definitions"
   ]
  },
  {
   "cell_type": "code",
   "execution_count": 2,
   "metadata": {
    "pycharm": {
     "name": "#%%\n"
    }
   },
   "outputs": [],
   "source": [
    "# 2Theta angle\n",
    "tth_ch1 = 5.274\n",
    "# Main element in the alloy, will be used for absorption calculation\n",
    "element = 'Ti'\n",
    "# Diffraction elactic constants prepared using ISODEC https://www.nist.gov/services-resources/software/isodec\n",
    "dec = pd.read_csv(r'../../data/dec/alphaTi.csv', index_col=None, comment='#')"
   ]
  },
  {
   "cell_type": "markdown",
   "metadata": {
    "pycharm": {
     "name": "#%%\n"
    }
   },
   "source": [
    "## $d_0$ measurement preparation\n",
    "A reference sample was measured to get the $d_0$ values for the diffraction peaks."
   ]
  },
  {
   "cell_type": "code",
   "execution_count": 9,
   "metadata": {
    "pycharm": {
     "name": "#%%\n"
    }
   },
   "outputs": [
    {
     "name": "stdout",
     "output_type": "stream",
     "text": [
      "    h  k  l        d0    d0_std          en\n",
      "0   1  0  0  2.532843  0.000550   53.197829\n",
      "1   0  0  2  2.335838  0.000622   57.684555\n",
      "2   1  0  1  2.227108  0.000479   60.500767\n",
      "3   1  0  2  1.717717  0.000366   78.442366\n",
      "4   1  1  0  1.463043  0.000455   92.096946\n",
      "5   1  0  3  1.327186  0.000373  101.524369\n",
      "6   2  0  0  1.267117  0.000715  106.337267\n",
      "7   1  1  2  1.240123  0.000234  108.651924\n",
      "8   2  0  1  1.222798  0.000458  110.191368\n",
      "9   0  0  4  1.168465  0.000659  115.315181\n",
      "10  2  0  2  1.113966  0.000360  120.956806\n"
     ]
    }
   ],
   "source": [
    "# read Viewer output\n",
    "d0_data = read_peaks(r'../../data/peaks/TiLSP/Ti_1mm_d0_ref.csv')\n",
    "# create a dataframe for storing d0 values\n",
    "d0 = pd.DataFrame(columns=['h', 'k', 'l', 'd0', 'd0_std', 'en'])\n",
    "for peak_id in valid_peaks(d0_data, valid_for='phase'):\n",
    "    # calculating the d value from the peak center and 2Theta\n",
    "    d_val = bragg(en=ufloat(d0_data[peak_id]['center'].mean(), d0_data[peak_id]['center'].std()), tth=tth_ch1)['d']\n",
    "    # adding to the d0 dataframe as a new row\n",
    "    d0.loc[d0.shape[0]] = {\n",
    "        **{idx: d0_data[peak_id][idx].mean().astype(int) for idx in ('h', 'k', 'l')},\n",
    "        'd0': d_val.nominal_value,\n",
    "        'd0_std': d_val.std_dev,\n",
    "        'en': d0_data[peak_id]['center'].mean()\n",
    "    }\n",
    "# showing results: hkl, measured d0, measured d0 standard deviation, energy of the peak\n",
    "d0 = d0.sort_values(by='en').reset_index(drop=True)\n",
    "print(d0)"
   ]
  },
  {
   "cell_type": "code",
   "execution_count": 13,
   "metadata": {},
   "outputs": [],
   "source": [
    "# Reading the Viewer output. Multiple files can be passed to read_peaks function as a tuple\n",
    "dd = read_peaks((r'../../data/peaks/TiLSP/phi0Trans_3.csv', r'../../data/peaks/TiLSP/phi90Trans_4.csv'))\n",
    "\n",
    "# Defining the experiment\n",
    "dd = group_by_motors(\n",
    "    dd,\n",
    "    motors=[\n",
    "        {'mot_name': 'eu.z', 'atol': 1e-3},\n",
    "        {'mot_name': 'eu.phi', 'atol': 5., 'values': Sin2Psi.phi_values},\n",
    "        {'mot_name': 'eu.chi', 'atol': .1, 'max': 90.}\n",
    "    ])"
   ]
  },
  {
   "cell_type": "code",
   "execution_count": null,
   "metadata": {},
   "outputs": [],
   "source": []
  }
 ],
 "metadata": {
  "kernelspec": {
   "display_name": "Python 3",
   "language": "python",
   "name": "python3"
  },
  "language_info": {
   "codemirror_mode": {
    "name": "ipython",
    "version": 3
   },
   "file_extension": ".py",
   "mimetype": "text/x-python",
   "name": "python",
   "nbconvert_exporter": "python",
   "pygments_lexer": "ipython3",
   "version": "3.6.13"
  }
 },
 "nbformat": 4,
 "nbformat_minor": 1
}
